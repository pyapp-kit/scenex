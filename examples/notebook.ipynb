{
 "cells": [
  {
   "cell_type": "code",
   "execution_count": 1,
   "id": "aa695816",
   "metadata": {
    "jupyter": {
     "source_hidden": true
    }
   },
   "outputs": [],
   "source": [
    "# /// script\n",
    "# requires-python = \">=3.10\"\n",
    "# dependencies = [\n",
    "#     \"imageio[tifffile]\",\n",
    "#     \"scenex[jupyter,pygfx]\",\n",
    "# ]\n",
    "# ///"
   ]
  },
  {
   "cell_type": "code",
   "execution_count": 2,
   "id": "461399b0-e02d-43d9-9ede-c1aa6c180338",
   "metadata": {},
   "outputs": [
    {
     "data": {
      "text/plain": [
       "'Using RemoteFrameBuffer widget'"
      ]
     },
     "metadata": {},
     "output_type": "display_data"
    },
    {
     "data": {
      "application/vnd.jupyter.widget-view+json": {
       "model_id": "967db5e8238049ae94a786da7c792dc6",
       "version_major": 2,
       "version_minor": 0
      },
      "text/plain": [
       "RFBOutputContext()"
      ]
     },
     "metadata": {},
     "output_type": "display_data"
    },
    {
     "data": {
      "application/vnd.jupyter.widget-view+json": {
       "model_id": "f90a17e1854d498ca3c2f8daa7aa34b9",
       "version_major": 2,
       "version_minor": 0
      },
      "text/html": [
       "<div class='snapshot-f90a17e1854d498ca3c2f8daa7aa34b9' style='position:relative;'><img src='data:image/png;base64,iVBORw0KGgoAAAANSUhEUgAAAAEAAAABCAIAAACQd1PeAAAADElEQVR42mOor68HAAL+AX6E2KOJAAAAAElFTkSuQmCC' style='width:500.0px;height:500.0px;' /><div style='position: absolute; top:0; left:0; padding:1px 3px; background: #777; color:#fff; font-size: 90%; font-family:sans-serif; '>snapshot</div></div>"
      ],
      "text/plain": [
       "JupyterRenderCanvas(css_height='500.0px', css_width='500.0px')"
      ]
     },
     "metadata": {},
     "output_type": "display_data"
    }
   ],
   "source": [
    "import scenex as snx\n",
    "import numpy as np\n",
    "import cmap\n",
    "\n",
    "image = snx.Image(\n",
    "    data=np.random.randint(0, 255, (200, 200)).astype(np.uint8),\n",
    "    cmap=cmap.Colormap(\"viridis\"),\n",
    "    transform=snx.Transform().scaled((1.3, 0.5)).translated((-40, 20)),\n",
    "    clims=(0, 255),\n",
    "    opacity=0.7,\n",
    "    interactive=True,\n",
    ")\n",
    "points = snx.Points(\n",
    "    coords=np.random.randint(0, 200, (100, 2)).astype(np.uint8),\n",
    "    size=5,\n",
    "    face_color=cmap.Color(\"coral\"),\n",
    "    edge_color=cmap.Color(\"purple\"),\n",
    "    transform=snx.Transform().translated((0, -50)),\n",
    "    interactive=True,\n",
    ")\n",
    "\n",
    "view = snx.View(\n",
    "    blending=\"default\",\n",
    "    scene=snx.Scene(\n",
    "        children=[image, points]\n",
    "    ),\n",
    ")\n",
    "\n",
    "canvas = snx.show(view)\n",
    "snx.run()"
   ]
  },
  {
   "cell_type": "code",
   "execution_count": 3,
   "id": "fb96f975-aa05-4d8a-9f85-f4316293e05d",
   "metadata": {},
   "outputs": [],
   "source": [
    "from IPython.display import display\n",
    "import random\n",
    "\n",
    "random.seed(0xdeadbeef)\n",
    "colors = [\"blue\", \"red\", \"yellow\", \"green\"]\n",
    "\n",
    "def foo(event, node) -> bool:\n",
    "    if isinstance(node, snx.Points):\n",
    "        node.face_color = colors[random.randint(0, len(colors) - 1)]\n",
    "    return False\n",
    "\n",
    "view.scene.children[1].set_event_filter(foo)"
   ]
  }
 ],
 "metadata": {
  "kernelspec": {
   "display_name": "Python 3 (ipykernel)",
   "language": "python",
   "name": "python3"
  },
  "language_info": {
   "codemirror_mode": {
    "name": "ipython",
    "version": 3
   },
   "file_extension": ".py",
   "mimetype": "text/x-python",
   "name": "python",
   "nbconvert_exporter": "python",
   "pygments_lexer": "ipython3",
   "version": "3.13.1"
  }
 },
 "nbformat": 4,
 "nbformat_minor": 5
}
